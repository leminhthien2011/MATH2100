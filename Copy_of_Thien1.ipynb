{
  "nbformat": 4,
  "nbformat_minor": 0,
  "metadata": {
    "colab": {
      "provenance": [],
      "authorship_tag": "ABX9TyO/nEGpT7zeTr6YWR+NmiG+",
      "include_colab_link": true
    },
    "kernelspec": {
      "name": "python3",
      "display_name": "Python 3"
    },
    "language_info": {
      "name": "python"
    }
  },
  "cells": [
    {
      "cell_type": "markdown",
      "metadata": {
        "id": "view-in-github",
        "colab_type": "text"
      },
      "source": [
        "<a href=\"https://colab.research.google.com/github/leminhthien2011/MATH2100/blob/main/Copy_of_Thien1.ipynb\" target=\"_parent\"><img src=\"https://colab.research.google.com/assets/colab-badge.svg\" alt=\"Open In Colab\"/></a>"
      ]
    },
    {
      "cell_type": "code",
      "execution_count": null,
      "metadata": {
        "colab": {
          "base_uri": "https://localhost:8080/"
        },
        "id": "e5S6aTOYaOHU",
        "outputId": "5a8506fb-db6a-4e63-b118-f0019bbbde77"
      },
      "outputs": [
        {
          "output_type": "stream",
          "name": "stdout",
          "text": [
            "2\n"
          ]
        }
      ],
      "source": [
        "2+3\n",
        "x =2\n",
        "x^2\n",
        "print(x)\n"
      ]
    },
    {
      "cell_type": "markdown",
      "source": [
        "hello, this is a test.\n"
      ],
      "metadata": {
        "id": "_5JGzKICac0X"
      }
    },
    {
      "cell_type": "code",
      "source": [
        "for i in range(5):\n",
        "    print(i)"
      ],
      "metadata": {
        "id": "VlMtJugHak6X",
        "colab": {
          "base_uri": "https://localhost:8080/"
        },
        "outputId": "54a52473-a2a4-427f-e876-4610f1226bb8"
      },
      "execution_count": 4,
      "outputs": [
        {
          "output_type": "stream",
          "name": "stdout",
          "text": [
            "0\n",
            "1\n",
            "2\n",
            "3\n",
            "4\n"
          ]
        }
      ]
    },
    {
      "cell_type": "markdown",
      "source": [
        "We are on the first day of the journey.\n"
      ],
      "metadata": {
        "id": "llSRgm0LbK6n"
      }
    }
  ]
}